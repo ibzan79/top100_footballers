{
 "cells": [
  {
   "cell_type": "markdown",
   "metadata": {},
   "source": [
    "## Libraries"
   ]
  },
  {
   "cell_type": "code",
   "execution_count": 8,
   "metadata": {},
   "outputs": [],
   "source": [
    "import requests\n",
    "import urllib.request\n",
    "import time\n",
    "from bs4 import BeautifulSoup"
   ]
  },
  {
   "cell_type": "code",
   "execution_count": 9,
   "metadata": {},
   "outputs": [],
   "source": [
    "import csv\n",
    "from datetime import datetime"
   ]
  },
  {
   "cell_type": "code",
   "execution_count": 12,
   "metadata": {},
   "outputs": [],
   "source": [
    "import pandas as pd"
   ]
  },
  {
   "cell_type": "markdown",
   "metadata": {},
   "source": [
    "## URL"
   ]
  },
  {
   "cell_type": "code",
   "execution_count": 16,
   "metadata": {},
   "outputs": [],
   "source": [
    "url = 'https://www.fourfourtwo.com/features/ranked-the-100-best-football-players-of-all-time'"
   ]
  },
  {
   "cell_type": "code",
   "execution_count": 17,
   "metadata": {},
   "outputs": [],
   "source": [
    "response = requests.get(url).text\n",
    "soup = BeautifulSoup(response)"
   ]
  },
  {
   "cell_type": "markdown",
   "metadata": {},
   "source": [
    "## Get data"
   ]
  },
  {
   "cell_type": "code",
   "execution_count": 18,
   "metadata": {},
   "outputs": [],
   "source": [
    "fp_names = soup.find_all('h2')"
   ]
  },
  {
   "cell_type": "code",
   "execution_count": 19,
   "metadata": {},
   "outputs": [
    {
     "name": "stdout",
     "output_type": "stream",
     "text": [
      "100. Gheorghe Hagi\n",
      "https://cdn.mos.cms.futurecdn.net/peV7yw4dQEtyTHXnDA8MPc.jpg\n",
      "99. Mario Kempes\n",
      "https://cdn.mos.cms.futurecdn.net/zRSaKe6CiixkK3Q7qCqeGS.jpg\n",
      "98. Kaka\n",
      "https://cdn.mos.cms.futurecdn.net/5F3sREzWhaQM8nzYm9gvPK.jpg\n",
      "97. George Weah\n",
      "https://cdn.mos.cms.futurecdn.net/39ofcTDqn6daVtumVtRd83.jpg\n",
      "96. Javier Zanetti\n",
      "https://cdn.mos.cms.futurecdn.net/5wB9J5GEWvfoqx2FX36s45.jpg\n",
      "95. Djalma Santos\n",
      "https://cdn.mos.cms.futurecdn.net/bJKoUAQgbowWVCzrVhoqMA.jpg\n",
      "94. Luis Figo\n",
      "https://cdn.mos.cms.futurecdn.net/nLt4h2VekVxwHSMLDdaUfi.jpg\n",
      "93. Sandor Kocsis\n",
      "https://cdn.mos.cms.futurecdn.net/koo6ms6uB2y2yZMvduBrn8.jpg\n",
      "92. Peter Schmeichel\n",
      "https://cdn.mos.cms.futurecdn.net/BHjCXZtuBKbhbwMvxu5hUN.jpg\n",
      "91. Giacinto Facchetti\n",
      "https://cdn.mos.cms.futurecdn.net/3iw5dUMZ6ZQsteM2qZczZc.jpg\n"
     ]
    }
   ],
   "source": [
    "for i in range(1, len(fp_names) - 1):\n",
    "    print(fp_names[i].text)\n",
    "    print(fp_names[i].find_next().picture.source['data-original-mos'])"
   ]
  }
 ],
 "metadata": {
  "kernelspec": {
   "display_name": "Python 3.11.0 64-bit",
   "language": "python",
   "name": "python3"
  },
  "language_info": {
   "codemirror_mode": {
    "name": "ipython",
    "version": 3
   },
   "file_extension": ".py",
   "mimetype": "text/x-python",
   "name": "python",
   "nbconvert_exporter": "python",
   "pygments_lexer": "ipython3",
   "version": "3.11.0"
  },
  "orig_nbformat": 4,
  "vscode": {
   "interpreter": {
    "hash": "9f639274b340cfdd281fbd1708059b7070dad67449a1de571c1b344cda79ea18"
   }
  }
 },
 "nbformat": 4,
 "nbformat_minor": 2
}
