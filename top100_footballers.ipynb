{
 "cells": [
  {
   "cell_type": "markdown",
   "metadata": {},
   "source": [
    "## Libraries"
   ]
  },
  {
   "cell_type": "code",
   "execution_count": 165,
   "metadata": {},
   "outputs": [],
   "source": [
    "import requests\n",
    "import urllib.request\n",
    "import time\n",
    "from bs4 import BeautifulSoup"
   ]
  },
  {
   "cell_type": "code",
   "execution_count": 166,
   "metadata": {},
   "outputs": [],
   "source": [
    "import csv\n",
    "from datetime import datetime"
   ]
  },
  {
   "cell_type": "code",
   "execution_count": 167,
   "metadata": {},
   "outputs": [],
   "source": [
    "import pandas as pd"
   ]
  },
  {
   "cell_type": "code",
   "execution_count": 168,
   "metadata": {},
   "outputs": [],
   "source": [
    "from IPython.core.display import HTML"
   ]
  },
  {
   "cell_type": "markdown",
   "metadata": {},
   "source": [
    "## URL"
   ]
  },
  {
   "cell_type": "code",
   "execution_count": 169,
   "metadata": {},
   "outputs": [],
   "source": [
    "url = 'https://www.fourfourtwo.com/features/ranked-the-100-best-football-players-of-all-time'"
   ]
  },
  {
   "cell_type": "code",
   "execution_count": 170,
   "metadata": {},
   "outputs": [],
   "source": [
    "response = requests.get(url).text\n",
    "soup = BeautifulSoup(response)"
   ]
  },
  {
   "cell_type": "markdown",
   "metadata": {},
   "source": [
    "## Get data"
   ]
  },
  {
   "cell_type": "code",
   "execution_count": 171,
   "metadata": {},
   "outputs": [],
   "source": [
    "fp_names = soup.find_all('h2') # h2 is the name of the player"
   ]
  },
  {
   "cell_type": "code",
   "execution_count": 172,
   "metadata": {},
   "outputs": [],
   "source": [
    "ranking_place = []\n",
    "player_name = []\n",
    "images = []"
   ]
  },
  {
   "cell_type": "code",
   "execution_count": 173,
   "metadata": {},
   "outputs": [],
   "source": [
    "for i in range(1, len(fp_names) - 1):\n",
    "    # Obtaining both ranked position and player name (0: position, 1: name)\n",
    "    name = fp_names[i].text.split('.') # Split by the separator '.'\n",
    "    for j in range(len(name)):\n",
    "        name[j] = name[j].strip() # Eliminamos los espacios en blanco del inicio (E.g. ' Mario Kempes' to 'Mario Kempes')\n",
    "    ranking_place.append(name[0])\n",
    "    player_name.append(name[1])\n",
    "    images.append(fp_names[i].find_next().picture.source['data-original-mos'])"
   ]
  },
  {
   "cell_type": "code",
   "execution_count": 174,
   "metadata": {},
   "outputs": [],
   "source": [
    "def to_img_tag(path):\n",
    "    return '<img src=\"'+ path + '\" width=\"200\" >'"
   ]
  },
  {
   "cell_type": "markdown",
   "metadata": {},
   "source": [
    "## Dataframe"
   ]
  },
  {
   "cell_type": "code",
   "execution_count": 175,
   "metadata": {},
   "outputs": [],
   "source": [
    "columns = [\n",
    "    'ranking',\n",
    "    'name',\n",
    "    'image'\n",
    "]"
   ]
  },
  {
   "cell_type": "code",
   "execution_count": 176,
   "metadata": {},
   "outputs": [],
   "source": [
    "df = pd.DataFrame(columns = columns)"
   ]
  },
  {
   "cell_type": "code",
   "execution_count": 177,
   "metadata": {},
   "outputs": [],
   "source": [
    "df['ranking'] = ranking_place\n",
    "df['name'] = player_name\n",
    "df['image'] = images"
   ]
  },
  {
   "cell_type": "code",
   "execution_count": 178,
   "metadata": {},
   "outputs": [
    {
     "data": {
      "text/html": [
       "<table border=\"1\" class=\"dataframe\">\n",
       "  <thead>\n",
       "    <tr style=\"text-align: right;\">\n",
       "      <th></th>\n",
       "      <th>ranking</th>\n",
       "      <th>name</th>\n",
       "      <th>image</th>\n",
       "    </tr>\n",
       "  </thead>\n",
       "  <tbody>\n",
       "    <tr>\n",
       "      <th>0</th>\n",
       "      <td>100</td>\n",
       "      <td>Gheorghe Hagi</td>\n",
       "      <td><img src=\"https://cdn.mos.cms.futurecdn.net/peV7yw4dQEtyTHXnDA8MPc.jpg\" width=\"200\" ></td>\n",
       "    </tr>\n",
       "    <tr>\n",
       "      <th>1</th>\n",
       "      <td>99</td>\n",
       "      <td>Mario Kempes</td>\n",
       "      <td><img src=\"https://cdn.mos.cms.futurecdn.net/zRSaKe6CiixkK3Q7qCqeGS.jpg\" width=\"200\" ></td>\n",
       "    </tr>\n",
       "    <tr>\n",
       "      <th>2</th>\n",
       "      <td>98</td>\n",
       "      <td>Kaka</td>\n",
       "      <td><img src=\"https://cdn.mos.cms.futurecdn.net/5F3sREzWhaQM8nzYm9gvPK.jpg\" width=\"200\" ></td>\n",
       "    </tr>\n",
       "    <tr>\n",
       "      <th>3</th>\n",
       "      <td>97</td>\n",
       "      <td>George Weah</td>\n",
       "      <td><img src=\"https://cdn.mos.cms.futurecdn.net/39ofcTDqn6daVtumVtRd83.jpg\" width=\"200\" ></td>\n",
       "    </tr>\n",
       "    <tr>\n",
       "      <th>4</th>\n",
       "      <td>96</td>\n",
       "      <td>Javier Zanetti</td>\n",
       "      <td><img src=\"https://cdn.mos.cms.futurecdn.net/5wB9J5GEWvfoqx2FX36s45.jpg\" width=\"200\" ></td>\n",
       "    </tr>\n",
       "    <tr>\n",
       "      <th>5</th>\n",
       "      <td>95</td>\n",
       "      <td>Djalma Santos</td>\n",
       "      <td><img src=\"https://cdn.mos.cms.futurecdn.net/bJKoUAQgbowWVCzrVhoqMA.jpg\" width=\"200\" ></td>\n",
       "    </tr>\n",
       "    <tr>\n",
       "      <th>6</th>\n",
       "      <td>94</td>\n",
       "      <td>Luis Figo</td>\n",
       "      <td><img src=\"https://cdn.mos.cms.futurecdn.net/nLt4h2VekVxwHSMLDdaUfi.jpg\" width=\"200\" ></td>\n",
       "    </tr>\n",
       "    <tr>\n",
       "      <th>7</th>\n",
       "      <td>93</td>\n",
       "      <td>Sandor Kocsis</td>\n",
       "      <td><img src=\"https://cdn.mos.cms.futurecdn.net/koo6ms6uB2y2yZMvduBrn8.jpg\" width=\"200\" ></td>\n",
       "    </tr>\n",
       "    <tr>\n",
       "      <th>8</th>\n",
       "      <td>92</td>\n",
       "      <td>Peter Schmeichel</td>\n",
       "      <td><img src=\"https://cdn.mos.cms.futurecdn.net/BHjCXZtuBKbhbwMvxu5hUN.jpg\" width=\"200\" ></td>\n",
       "    </tr>\n",
       "    <tr>\n",
       "      <th>9</th>\n",
       "      <td>91</td>\n",
       "      <td>Giacinto Facchetti</td>\n",
       "      <td><img src=\"https://cdn.mos.cms.futurecdn.net/3iw5dUMZ6ZQsteM2qZczZc.jpg\" width=\"200\" ></td>\n",
       "    </tr>\n",
       "  </tbody>\n",
       "</table>"
      ],
      "text/plain": [
       "<IPython.core.display.HTML object>"
      ]
     },
     "metadata": {},
     "output_type": "display_data"
    }
   ],
   "source": [
    "display(HTML(df.to_html(escape = False, formatters = dict(image = to_img_tag))))"
   ]
  }
 ],
 "metadata": {
  "kernelspec": {
   "display_name": "Python 3.11.0 64-bit",
   "language": "python",
   "name": "python3"
  },
  "language_info": {
   "codemirror_mode": {
    "name": "ipython",
    "version": 3
   },
   "file_extension": ".py",
   "mimetype": "text/x-python",
   "name": "python",
   "nbconvert_exporter": "python",
   "pygments_lexer": "ipython3",
   "version": "3.11.0"
  },
  "orig_nbformat": 4,
  "vscode": {
   "interpreter": {
    "hash": "9f639274b340cfdd281fbd1708059b7070dad67449a1de571c1b344cda79ea18"
   }
  }
 },
 "nbformat": 4,
 "nbformat_minor": 2
}
